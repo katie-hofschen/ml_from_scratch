{
 "cells": [
  {
   "cell_type": "code",
   "execution_count": 2,
   "metadata": {},
   "outputs": [],
   "source": [
    "import numpy as np\n",
    "import matplotlib.pyplot as plt\n",
    "plt.style.use('default')\n",
    "from metrics import accuracy\n",
    "\n",
    "from sklearn import datasets\n",
    "from sklearn.model_selection import train_test_split"
   ]
  },
  {
   "cell_type": "markdown",
   "metadata": {},
   "source": [
    "# Linear Discriminant Analysis (LDA)\n",
    "\n",
    "[Article on LDA (intuitions, illustrations and math behind this method)](https://towardsdatascience.com/linear-discriminant-analysis-explained-f88be6c1e00b)\n",
    "\n",
    "To quote Yang Xiaozhou:\n",
    "\"Linear discriminant analysis is used as a tool for classification, dimension reduction, and data visualization. It has been around for quite some time now. Despite its simplicity, LDA often produces robust, decent, and interpretable classification results. When tackling real-world classification problems, LDA is often the benchmarking method before other more complicated and flexible ones are employed.\n",
    "\n",
    "Key takeaways:\n",
    "Linear discriminant analysis is not just a dimension reduction tool, but also a robust classification method.\\\n",
    "With or without data normality assumption, we can arrive at the same LDA features, which explains its robustness.\n",
    "\n",
    "While features learned from Principal Component Analysis (PCA) are called Eigenfaces, those learned from LDA are called Fisherfaces, named after the statistician, Sir Ronald Fisher.\"\n",
    "\n",
    "\n",
    "## PCA vs LDA — When to use what?\n",
    "PCA and LDA are both powerful techniques for dimensionality reduction, but they have different objectives and assumptions.\n",
    "\n",
    "* PCA aims to find the directions of maximum variance in the data, while LDA aims to find the projection that best separates the classes in the data.\n",
    "* PCA is an unsupervised method that does not take into account the class labels in the data. LDA, on the other hand, is a supervised method that assumes that the data is normally distributed and that the covariance matrices for each class are equal.\n",
    "* PCA is often used for exploratory data analysis and preprocessing of data for machine learning algorithms, while LDA is often used for classification and feature selection."
   ]
  },
  {
   "cell_type": "code",
   "execution_count": null,
   "metadata": {},
   "outputs": [],
   "source": []
  }
 ],
 "metadata": {
  "kernelspec": {
   "display_name": ".venv",
   "language": "python",
   "name": "python3"
  },
  "language_info": {
   "codemirror_mode": {
    "name": "ipython",
    "version": 3
   },
   "file_extension": ".py",
   "mimetype": "text/x-python",
   "name": "python",
   "nbconvert_exporter": "python",
   "pygments_lexer": "ipython3",
   "version": "3.12.0"
  }
 },
 "nbformat": 4,
 "nbformat_minor": 2
}
