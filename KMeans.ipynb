{
 "cells": [
  {
   "cell_type": "code",
   "execution_count": null,
   "metadata": {},
   "outputs": [],
   "source": [
    "import numpy as np\n",
    "import matplotlib.pyplot as plt\n",
    "plt.style.use('default')\n",
    "from metrics import accuracy\n",
    "\n",
    "from sklearn import datasets\n",
    "from sklearn.model_selection import train_test_split"
   ]
  },
  {
   "cell_type": "markdown",
   "metadata": {},
   "source": [
    "# K - Means Clustering\n",
    "\n",
    "K-means clusters the training data around k most meaningful means. Each new sample is then assigned the cluster that has the nearest mean.\n",
    "This is an unsupervised learning method meaning it does not require labels in order to learn meaningful patterns.\n",
    "\n",
    "To do this:\n",
    "1. Choose the number of clusters k. \n",
    "2. Select k random points from the data as centroids. \n",
    "3. Assign all the points to the cluster with the closest centroid by comparing the means.\n",
    "4. Recompute the centroids based on the newly formed clusters.\\\n",
    "Repeat steps 3 and 4 until stopping criteria are reached.\n",
    "\n",
    "Stopping criteria:\n",
    "* Centroids of newly formed clusters do not change\n",
    "* Points remain in the same cluster\n",
    "* Maximum number of iterations is reached"
   ]
  },
  {
   "cell_type": "code",
   "execution_count": null,
   "metadata": {},
   "outputs": [],
   "source": [
    "class KMeans:\n",
    "    def __init__(self, n_clusters, n_iter):\n",
    "        self.n_iter = n_iter\n",
    "        self.n_clusters = n_clusters\n",
    "\n",
    "    def fit(self, X):\n",
    "        # chose k random points out of X as the centroids\n",
    "        # check for stopping criteria\n",
    "        # assign all points in x to the nearest centroid\n",
    "        # Recompute the centroids of the clusters\n",
    "        pass\n",
    "\n",
    "    def predict(self, X):\n",
    "        pass"
   ]
  }
 ],
 "metadata": {
  "language_info": {
   "name": "python"
  }
 },
 "nbformat": 4,
 "nbformat_minor": 2
}
