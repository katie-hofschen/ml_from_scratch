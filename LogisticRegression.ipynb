{
 "cells": [
  {
   "cell_type": "code",
   "execution_count": 1,
   "metadata": {},
   "outputs": [],
   "source": [
    "import numpy as np\n",
    "import matplotlib.pyplot as plt\n",
    "plt.style.use('default')\n",
    "from activation_functions import sigmoid\n",
    "from metrics import accuracy\n",
    "from BaseRegression import BaseRegression\n",
    "\n",
    "from sklearn import datasets\n",
    "from sklearn.model_selection import train_test_split"
   ]
  },
  {
   "cell_type": "markdown",
   "metadata": {},
   "source": [
    "# Logistic Regression"
   ]
  },
  {
   "cell_type": "markdown",
   "metadata": {},
   "source": [
    "#TODO ausfuehrlicher und schoener machen.\n",
    "\n",
    "Apply the sigmoid to the linear function f(w, b) = wx + b    \n",
    "sigmoid(f(x)) = 1 / ( 1 + np.exp(-wx+b) )     \n",
    "This results in a range of 0-1 which can quite easily be interpreted as probabilities.\n",
    "\n",
    "Cost function:    \n",
    "J(w, b) = 1/N sum_n [ y^i log(h(x^i)) + (1-y^1)log(1-h(x^1)) ]\n",
    "\n",
    "Update rules:   \n",
    "dw = 1/N sum 2xi (y_pred - yi)\n",
    "db = 1/N sum 2 (y_pred - y)"
   ]
  },
  {
   "cell_type": "code",
   "execution_count": 2,
   "metadata": {},
   "outputs": [],
   "source": [
    "class LogisticRegression(BaseRegression):\n",
    "    # Only difference to Linear Regression is the application of the sigmoid function.\n",
    "    def _approximation(self, X, w, b):\n",
    "        linear = np.dot(X,  self.weights) + self.bias\n",
    "        return sigmoid(linear)\n",
    "    \n",
    "    def _predict(self, X, w, b):\n",
    "        linear = np.dot(X,  w) + b\n",
    "        y_pred = sigmoid(linear)\n",
    "        predicted_classes = [1 if y > 0.5 else 0 for y in y_pred]\n",
    "        return predicted_classes        "
   ]
  },
  {
   "cell_type": "code",
   "execution_count": 3,
   "metadata": {},
   "outputs": [],
   "source": [
    "cancer_data = datasets.load_breast_cancer()\n",
    "X, y = cancer_data.data, cancer_data.target\n",
    "X_train, X_test, y_train, y_test = train_test_split(X, y, test_size=0.2, random_state=1234)\n"
   ]
  },
  {
   "cell_type": "code",
   "execution_count": 5,
   "metadata": {},
   "outputs": [
    {
     "name": "stdout",
     "output_type": "stream",
     "text": [
      "Accuracy: 0.39473684210526316\n"
     ]
    }
   ],
   "source": [
    "logreg = LogisticRegression(lr= 0.01, n_iter=500)\n",
    "logreg.fit(X_train, y_train)\n",
    "predicted = logreg.predict(X_test)\n",
    "\n",
    "print(f\"Accuracy: {accuracy(predicted, y_test)}\")"
   ]
  },
  {
   "cell_type": "code",
   "execution_count": null,
   "metadata": {},
   "outputs": [],
   "source": []
  }
 ],
 "metadata": {
  "kernelspec": {
   "display_name": ".venv",
   "language": "python",
   "name": "python3"
  },
  "language_info": {
   "codemirror_mode": {
    "name": "ipython",
    "version": 3
   },
   "file_extension": ".py",
   "mimetype": "text/x-python",
   "name": "python",
   "nbconvert_exporter": "python",
   "pygments_lexer": "ipython3",
   "version": "3.12.0"
  }
 },
 "nbformat": 4,
 "nbformat_minor": 2
}
