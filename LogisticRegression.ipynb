{
 "cells": [
  {
   "cell_type": "code",
   "execution_count": 8,
   "metadata": {},
   "outputs": [],
   "source": [
    "import pandas as pd\n",
    "import numpy as np\n",
    "import matplotlib.pyplot as plt\n",
    "plt.style.use('default')\n",
    "from activation_functions import sigmoid\n",
    "from metrics import accuracy\n",
    "\n",
    "from sklearn import datasets\n",
    "from sklearn.model_selection import train_test_split"
   ]
  },
  {
   "cell_type": "markdown",
   "metadata": {},
   "source": [
    "# Logistic Regression"
   ]
  },
  {
   "cell_type": "markdown",
   "metadata": {},
   "source": [
    "#TODO ausfuehrlicher und schoener machen.\n",
    "\n",
    "Apply the sigmoid to the linear function f(w, b) = wx + b    \n",
    "sigmoid(f(x)) = 1 / ( 1 + np.exp(-wx+b) )     \n",
    "This results in a range of 0-1 which can quite easily be interpreted as probabilities.\n",
    "\n",
    "Cost function:    \n",
    "J(w, b) = 1/N sum_n [ y^i log(h(x^i)) + (1-y^1)log(1-h(x^1)) ]\n",
    "\n",
    "Update rules:   \n",
    "dw = 1/N sum 2xi (y_pred - yi)\n",
    "db = 1/N sum 2 (y_pred - y)"
   ]
  },
  {
   "cell_type": "code",
   "execution_count": 9,
   "metadata": {},
   "outputs": [],
   "source": [
    "class LogisticRegression:\n",
    "    def __init__(self, lr=0.001, n_iter=100):\n",
    "        self.lr = lr\n",
    "        self.n_iter = n_iter\n",
    "        self.weights = None\n",
    "        self.bias = None\n",
    "\n",
    "    @property\n",
    "    def lr(self):\n",
    "        return self._lr\n",
    "    \n",
    "    @lr.setter\n",
    "    def lr(self, lr):\n",
    "        if not isinstance(lr, float) or lr < 0.0:\n",
    "            raise ValueError(\"The learning rate should be a number above 0.\")\n",
    "        self._lr = lr\n",
    "\n",
    "    @property\n",
    "    def n_iter(self):\n",
    "        return self._n_iter\n",
    "    \n",
    "    @n_iter.setter\n",
    "    def n_iter(self, n_iter):\n",
    "        if not isinstance(n_iter, int) or n_iter < 0:\n",
    "            raise ValueError(\"The number of iterations should be a number above 0.\")\n",
    "        self._n_iter = n_iter\n",
    "\n",
    "    def fit(self, X, y):\n",
    "        n_samples, n_features = X.shape\n",
    "        # TODO use different intialization methods eg. Xavier init., ...\n",
    "        self.weights = np.zeros(n_features)\n",
    "        self.bias = 0\n",
    "\n",
    "        for _ in range(self.n_iter):\n",
    "            linear = np.dot(X,  self.weights) + self.bias\n",
    "            y_pred = sigmoid(linear)\n",
    "            errors =  y_pred - y\n",
    "\n",
    "            db = (1 / n_samples) * np.sum(errors)\n",
    "            dw = (1 / n_samples) * np.dot(X.T, errors)\n",
    "            \n",
    "            self.bias -= self.lr * db\n",
    "            self.weights -= self.lr * dw\n",
    "\n",
    "    def predict(self, X):\n",
    "        linear = np.dot(X,  self.weights) + self.bias\n",
    "        y_pred = sigmoid(linear)\n",
    "        predicted_classes = [1 if y > 0.5 else 0 for y in y_pred]\n",
    "        return predicted_classes"
   ]
  },
  {
   "cell_type": "code",
   "execution_count": 10,
   "metadata": {},
   "outputs": [],
   "source": [
    "cancer_data = datasets.load_breast_cancer()\n",
    "X, y = cancer_data.data, cancer_data.target\n",
    "X_train, X_test, y_train, y_test = train_test_split(X, y, test_size=0.2, random_state=1234)\n"
   ]
  },
  {
   "cell_type": "code",
   "execution_count": 17,
   "metadata": {},
   "outputs": [
    {
     "name": "stdout",
     "output_type": "stream",
     "text": [
      "Accuracy: 0.9122807017543859\n"
     ]
    }
   ],
   "source": [
    "logreg = LogisticRegression(lr= 0.01, n_iter=1500)\n",
    "logreg.fit(X_train, y_train)\n",
    "predicted = logreg.predict(X_test)\n",
    "\n",
    "print(f\"Accuracy: {accuracy(predicted, y_test)}\")"
   ]
  }
 ],
 "metadata": {
  "kernelspec": {
   "display_name": ".venv",
   "language": "python",
   "name": "python3"
  },
  "language_info": {
   "codemirror_mode": {
    "name": "ipython",
    "version": 3
   },
   "file_extension": ".py",
   "mimetype": "text/x-python",
   "name": "python",
   "nbconvert_exporter": "python",
   "pygments_lexer": "ipython3",
   "version": "3.12.0"
  }
 },
 "nbformat": 4,
 "nbformat_minor": 2
}
