{
 "cells": [
  {
   "cell_type": "code",
   "execution_count": 7,
   "metadata": {},
   "outputs": [],
   "source": [
    "import numpy as np\n",
    "from collections import Counter\n",
    "import matplotlib.pyplot as plt\n",
    "from matplotlib.colors import ListedColormap\n",
    "from matplotlib.lines import Line2D\n",
    "plt.style.use('default')\n",
    "cmap =  ListedColormap([\"darkorange\", \"magenta\", \"lightseagreen\"])\n",
    "\n",
    "import distance_metrics\n",
    "\n",
    "from sklearn import datasets\n",
    "from sklearn.model_selection import train_test_split\n",
    "from sklearn.neighbors import KNeighborsClassifier\n",
    "from sklearn.metrics import classification_report"
   ]
  },
  {
   "cell_type": "markdown",
   "metadata": {},
   "source": [
    "# K - Nearest Neighbors\n",
    "\n",
    "Use a number of points that are closest to a sample to predict its class.    \n",
    "For example if the 5 nearest neighbors of sample a are 2 times class 1 and 3 times class 2, KNN will predict that sample a has the class 2."
   ]
  },
  {
   "cell_type": "markdown",
   "metadata": {},
   "source": [
    "### Definition of KNN class"
   ]
  },
  {
   "cell_type": "code",
   "execution_count": 8,
   "metadata": {},
   "outputs": [],
   "source": [
    "class KNN:\n",
    "    \"\"\"\n",
    "    K-Nearest Neighbors is a supervised learning algorithm.\n",
    "    When presented with a new data point of which the label is not known this method will determine the\n",
    "    k - nearest neighbors by a chosen distance metric and predict the majority label.\n",
    "    \"\"\"\n",
    "    def __init__(self, knearest=3, distance=\"euclidian\", p=2):\n",
    "        #Note to self, the instance variable does not need an underscore here, only in the setter and getter\n",
    "        self.knearest = knearest\n",
    "        self.distance = distance\n",
    "        self.p = p\n",
    "\n",
    "    @property\n",
    "    def p(self):\n",
    "        return self._p\n",
    "    \n",
    "    @p.setter\n",
    "    def p(self, p):\n",
    "        if not isinstance(p ,int) or p < 1:\n",
    "            raise ValueError(\"P (as used for the minkowski distance) should be a number and larger than 0.\")\n",
    "        self._p = p\n",
    "\n",
    "    @property\n",
    "    def distance(self):\n",
    "        return self._distance\n",
    "    \n",
    "    @distance.setter\n",
    "    def distance(self, distance):\n",
    "        if distance not in [\"euclidian\", \"manhattan\", \"minkowski\", \"chebyshev\", \"cosine\", \"hamming\", \"jaccard\"]:\n",
    "            raise ValueError(\"Please choose one of the following distance measures: euclidian, manhattan, minkowski, chebyshev, cosine, hamming or jaccard.\")\n",
    "        self._distance = distance\n",
    "\n",
    "    @property\n",
    "    def knearest(self):\n",
    "        return self._knearest\n",
    "    \n",
    "    @knearest.setter\n",
    "    def knearest(self, knearest):\n",
    "        if not isinstance(knearest,int):\n",
    "            raise ValueError(\"Please enter a whole number.\")\n",
    "        elif knearest <= 0:\n",
    "            raise ValueError(\"Please enter a number larger than 0.\")\n",
    "        self._knearest = knearest\n",
    "\n",
    "\n",
    "    def fit(self, X, y):\n",
    "        self.X_train = X\n",
    "        self.y_train = y\n",
    "\n",
    "\n",
    "    def predict(self, samples):\n",
    "        predicted_labels = [self._predict(x) for x in samples]\n",
    "        return np.array(predicted_labels)\n",
    "        \n",
    "    def _predict(self, sample):\n",
    "        # compute the distances between the sample the training data\n",
    "        # Find the k nearest neighbors\n",
    "        # Chose the label according to majority vote\n",
    "\n",
    "        #idea limit the points you compute the distance for to sample_var +/- std or variance\n",
    "        distances = self.compute_dist(sample)\n",
    "        k_nearest_idx = self._get_k_nearest(distances)\n",
    "        label = self._get_majority_label(k_nearest_idx)\n",
    "        return label\n",
    "    \n",
    "    # Possibility to add weighted distance: the closer a point the more influence it has on the predicted value\n",
    "    # Also try other methods rather than brute force computation, starting point Kdtree, ball_tree as in sklearn\n",
    "    def compute_dist(self, sample):\n",
    "        distances = {}\n",
    "        match self.distance:\n",
    "            case \"euclidian\":\n",
    "                return [euclidian_dist(x, sample) for x in self.X_train]\n",
    "            case  \"manhattan\" :\n",
    "                return [manhattan_dist(x, sample) for x in self.X_train]\n",
    "            case \"minkowski\" :\n",
    "                return [minkowski_dist(x, sample) for x in self.X_train]\n",
    "            case \"chebyshev\":\n",
    "                return [chebyshev_dist(x, sample) for x in self.X_train]\n",
    "            case \"cosine\":\n",
    "                return [cosine_distance(x, sample) for x in self.X_train]\n",
    "            case \"hamming\":\n",
    "                return [hamming_distance(x, sample) for x in self.X_train]\n",
    "            case \"jaccard\":\n",
    "                return [jaccard_distance(x, sample) for x in self.X_train]\n",
    "        \n",
    "    \n",
    "    def _get_k_nearest(self, distances):\n",
    "        sorted_neighbors = np.argsort(distances)\n",
    "        return sorted_neighbors[:self.knearest]\n",
    "    \n",
    "    def _get_majority_label(self, k_nearest_idx):\n",
    "        labels = []\n",
    "        for neighbor in k_nearest_idx:\n",
    "            labels.append(self.y_train[neighbor])\n",
    "        return Counter(labels).most_common()[0][0]"
   ]
  },
  {
   "cell_type": "markdown",
   "metadata": {},
   "source": [
    "### Some basic performance metrics\n",
    "\n",
    "TODO make own graphic that is a bit easier to understand and isn't so visually cluttered\n",
    "\n",
    "<img src=\"performance_metrics.png\" width=\"1200\" height=\"600\" />"
   ]
  },
  {
   "cell_type": "code",
   "execution_count": 9,
   "metadata": {},
   "outputs": [],
   "source": [
    "# classification report returns does precision, recall, f1 and accuracy plus support, macro and weighted average\n",
    "\n",
    "def mean_absolute_error(predicted, target):\n",
    "    return ( np.sum([abs(t-p) for t,p in zip(target, predicted)]) / len(predicted) )\n",
    "\n",
    "def accuracy(predicted, target):\n",
    "    # ( TP + TN ) / ( all )\n",
    "    return np.sum(predicted == target) / len(target)\n",
    "\n",
    "def precision(predicted, target):\n",
    "    # True positive / all predicted as positive\n",
    "    # TP / ( TP + FP )\n",
    "    pass\n",
    "\n",
    "def recall(predicted, target):\n",
    "    # True positive / all that should be predicted positive\n",
    "    # TP / ( TP + FN )\n",
    "    pass\n",
    "\n",
    "\n"
   ]
  },
  {
   "cell_type": "markdown",
   "metadata": {},
   "source": [
    "### Test on iris data set\n",
    "\n",
    "train, valid, test = np.split(df.sample(frac=1), [int(0.6*len(df)), int(0.8*len(df))])     \n",
    "will shuffle the data, split at 60% train, 20% valid, 20% test"
   ]
  },
  {
   "cell_type": "code",
   "execution_count": 10,
   "metadata": {},
   "outputs": [
    {
     "data": {
      "text/plain": [
       "array(['setosa', 'versicolor', 'virginica'], dtype='<U10')"
      ]
     },
     "execution_count": 10,
     "metadata": {},
     "output_type": "execute_result"
    }
   ],
   "source": [
    "iris = datasets.load_iris()\n",
    "\n",
    "X, y = iris.data, iris.target\n",
    "X_train, X_test, y_train, y_test = train_test_split(X, y, test_size=0.3, random_state=1234)\n",
    "\n",
    "iris.target_names"
   ]
  },
  {
   "cell_type": "code",
   "execution_count": 11,
   "metadata": {},
   "outputs": [
    {
     "data": {
      "image/png": "[encoded data removed]",
      "text/plain": [
       "<Figure size 640x480 with 1 Axes>"
      ]
     },
     "metadata": {},
     "output_type": "display_data"
    }
   ],
   "source": [
    "plt.figure()\n",
    "plt.title(\"Petal vs sepal length for 3 target iris'\")\n",
    "scatter = plt.scatter(X[:,0], X[:,2], c=y, cmap=cmap, edgecolors='w', s=25)\n",
    "plt.ylabel(iris.feature_names[2])\n",
    "plt.xlabel(iris.feature_names[0])\n",
    "# plt.legend([0,1,2], labels=[\"darkorange\", \"magenta\", \"lightseagreen\"])\n",
    "custom = [Line2D([], [], marker='.', color=\"darkorange\", linestyle='None'),\n",
    "          Line2D([], [], marker='.', color=\"magenta\", linestyle='None'),\n",
    "          Line2D([], [], marker='.', color=\"lightseagreen\", linestyle='None')]\n",
    "plt.legend(handles = custom, labels=['Setosa', 'Versicolor', 'Virginica'], loc= \"lower right\")\n",
    "plt.show()"
   ]
  },
  {
   "cell_type": "code",
   "execution_count": 12,
   "metadata": {},
   "outputs": [
    {
     "ename": "NameError",
     "evalue": "name 'cosine_distance' is not defined",
     "output_type": "error",
     "traceback": [
      "\u001b[0;31m---------------------------------------------------------------------------\u001b[0m",
      "\u001b[0;31mNameError\u001b[0m                                 Traceback (most recent call last)",
      "\u001b[1;32m/Users/katie/Coding/ml_from_scratch/KNN.ipynb Cell 10\u001b[0m line \u001b[0;36m3\n\u001b[1;32m      <a href='vscode-notebook-cell:/Users/katie/Coding/ml_from_scratch/KNN.ipynb#X13sZmlsZQ%3D%3D?line=0'>1</a>\u001b[0m model \u001b[39m=\u001b[39m KNN(\u001b[39m2\u001b[39m, distance\u001b[39m=\u001b[39m\u001b[39m\"\u001b[39m\u001b[39mcosine\u001b[39m\u001b[39m\"\u001b[39m)\n\u001b[1;32m      <a href='vscode-notebook-cell:/Users/katie/Coding/ml_from_scratch/KNN.ipynb#X13sZmlsZQ%3D%3D?line=1'>2</a>\u001b[0m model\u001b[39m.\u001b[39mfit(X_train, y_train)\n\u001b[0;32m----> <a href='vscode-notebook-cell:/Users/katie/Coding/ml_from_scratch/KNN.ipynb#X13sZmlsZQ%3D%3D?line=2'>3</a>\u001b[0m predicted \u001b[39m=\u001b[39m model\u001b[39m.\u001b[39;49mpredict(X_test)\n\u001b[1;32m      <a href='vscode-notebook-cell:/Users/katie/Coding/ml_from_scratch/KNN.ipynb#X13sZmlsZQ%3D%3D?line=4'>5</a>\u001b[0m \u001b[39mprint\u001b[39m(\u001b[39m\"\u001b[39m\u001b[39mMean absolute error: \u001b[39m\u001b[39m\"\u001b[39m, mean_absolute_error(predicted, y_test))\n\u001b[1;32m      <a href='vscode-notebook-cell:/Users/katie/Coding/ml_from_scratch/KNN.ipynb#X13sZmlsZQ%3D%3D?line=5'>6</a>\u001b[0m \u001b[39mprint\u001b[39m(\u001b[39m\"\u001b[39m\u001b[39mAccuracy: \u001b[39m\u001b[39m\"\u001b[39m, accuracy(predicted, y_test))\n",
      "\u001b[1;32m/Users/katie/Coding/ml_from_scratch/KNN.ipynb Cell 10\u001b[0m line \u001b[0;36m5\n\u001b[1;32m     <a href='vscode-notebook-cell:/Users/katie/Coding/ml_from_scratch/KNN.ipynb#X13sZmlsZQ%3D%3D?line=50'>51</a>\u001b[0m \u001b[39mdef\u001b[39;00m \u001b[39mpredict\u001b[39m(\u001b[39mself\u001b[39m, samples):\n\u001b[0;32m---> <a href='vscode-notebook-cell:/Users/katie/Coding/ml_from_scratch/KNN.ipynb#X13sZmlsZQ%3D%3D?line=51'>52</a>\u001b[0m     predicted_labels \u001b[39m=\u001b[39m [\u001b[39mself\u001b[39;49m\u001b[39m.\u001b[39;49m_predict(x) \u001b[39mfor\u001b[39;00m x \u001b[39min\u001b[39;00m samples]\n\u001b[1;32m     <a href='vscode-notebook-cell:/Users/katie/Coding/ml_from_scratch/KNN.ipynb#X13sZmlsZQ%3D%3D?line=52'>53</a>\u001b[0m     \u001b[39mreturn\u001b[39;00m np\u001b[39m.\u001b[39marray(predicted_labels)\n",
      "\u001b[1;32m/Users/katie/Coding/ml_from_scratch/KNN.ipynb Cell 10\u001b[0m line \u001b[0;36m6\n\u001b[1;32m     <a href='vscode-notebook-cell:/Users/katie/Coding/ml_from_scratch/KNN.ipynb#X13sZmlsZQ%3D%3D?line=54'>55</a>\u001b[0m \u001b[39mdef\u001b[39;00m \u001b[39m_predict\u001b[39m(\u001b[39mself\u001b[39m, sample):\n\u001b[1;32m     <a href='vscode-notebook-cell:/Users/katie/Coding/ml_from_scratch/KNN.ipynb#X13sZmlsZQ%3D%3D?line=55'>56</a>\u001b[0m     \u001b[39m# compute the distances between the sample the training data\u001b[39;00m\n\u001b[1;32m     <a href='vscode-notebook-cell:/Users/katie/Coding/ml_from_scratch/KNN.ipynb#X13sZmlsZQ%3D%3D?line=56'>57</a>\u001b[0m     \u001b[39m# Find the k nearest neighbors\u001b[39;00m\n\u001b[1;32m     <a href='vscode-notebook-cell:/Users/katie/Coding/ml_from_scratch/KNN.ipynb#X13sZmlsZQ%3D%3D?line=57'>58</a>\u001b[0m     \u001b[39m# Chose the label according to majority vote\u001b[39;00m\n\u001b[1;32m     <a href='vscode-notebook-cell:/Users/katie/Coding/ml_from_scratch/KNN.ipynb#X13sZmlsZQ%3D%3D?line=58'>59</a>\u001b[0m \n\u001b[1;32m     <a href='vscode-notebook-cell:/Users/katie/Coding/ml_from_scratch/KNN.ipynb#X13sZmlsZQ%3D%3D?line=59'>60</a>\u001b[0m     \u001b[39m#idea limit the points you compute the distance for to sample_var +/- std or variance\u001b[39;00m\n\u001b[0;32m---> <a href='vscode-notebook-cell:/Users/katie/Coding/ml_from_scratch/KNN.ipynb#X13sZmlsZQ%3D%3D?line=60'>61</a>\u001b[0m     distances \u001b[39m=\u001b[39m \u001b[39mself\u001b[39;49m\u001b[39m.\u001b[39;49mcompute_dist(sample)\n\u001b[1;32m     <a href='vscode-notebook-cell:/Users/katie/Coding/ml_from_scratch/KNN.ipynb#X13sZmlsZQ%3D%3D?line=61'>62</a>\u001b[0m     k_nearest_idx \u001b[39m=\u001b[39m \u001b[39mself\u001b[39m\u001b[39m.\u001b[39m_get_k_nearest(distances)\n\u001b[1;32m     <a href='vscode-notebook-cell:/Users/katie/Coding/ml_from_scratch/KNN.ipynb#X13sZmlsZQ%3D%3D?line=62'>63</a>\u001b[0m     label \u001b[39m=\u001b[39m \u001b[39mself\u001b[39m\u001b[39m.\u001b[39m_get_majority_label(k_nearest_idx)\n",
      "\u001b[1;32m/Users/katie/Coding/ml_from_scratch/KNN.ipynb Cell 10\u001b[0m line \u001b[0;36m8\n\u001b[1;32m     <a href='vscode-notebook-cell:/Users/katie/Coding/ml_from_scratch/KNN.ipynb#X13sZmlsZQ%3D%3D?line=77'>78</a>\u001b[0m     \u001b[39mreturn\u001b[39;00m [chebyshev_dist(x, sample) \u001b[39mfor\u001b[39;00m x \u001b[39min\u001b[39;00m \u001b[39mself\u001b[39m\u001b[39m.\u001b[39mX_train]\n\u001b[1;32m     <a href='vscode-notebook-cell:/Users/katie/Coding/ml_from_scratch/KNN.ipynb#X13sZmlsZQ%3D%3D?line=78'>79</a>\u001b[0m \u001b[39mcase\u001b[39;00m \u001b[39m\"\u001b[39m\u001b[39mcosine\u001b[39m\u001b[39m\"\u001b[39m:\n\u001b[0;32m---> <a href='vscode-notebook-cell:/Users/katie/Coding/ml_from_scratch/KNN.ipynb#X13sZmlsZQ%3D%3D?line=79'>80</a>\u001b[0m     \u001b[39mreturn\u001b[39;00m [cosine_distance(x, sample) \u001b[39mfor\u001b[39;00m x \u001b[39min\u001b[39;00m \u001b[39mself\u001b[39m\u001b[39m.\u001b[39mX_train]\n\u001b[1;32m     <a href='vscode-notebook-cell:/Users/katie/Coding/ml_from_scratch/KNN.ipynb#X13sZmlsZQ%3D%3D?line=80'>81</a>\u001b[0m \u001b[39mcase\u001b[39;00m \u001b[39m\"\u001b[39m\u001b[39mhamming\u001b[39m\u001b[39m\"\u001b[39m:\n\u001b[1;32m     <a href='vscode-notebook-cell:/Users/katie/Coding/ml_from_scratch/KNN.ipynb#X13sZmlsZQ%3D%3D?line=81'>82</a>\u001b[0m     \u001b[39mreturn\u001b[39;00m [hamming_distance(x, sample) \u001b[39mfor\u001b[39;00m x \u001b[39min\u001b[39;00m \u001b[39mself\u001b[39m\u001b[39m.\u001b[39mX_train]\n",
      "\u001b[0;31mNameError\u001b[0m: name 'cosine_distance' is not defined"
     ]
    }
   ],
   "source": [
    "model = KNN(2, distance=\"cosine\")\n",
    "model.fit(X_train, y_train)\n",
    "predicted = model.predict(X_test)\n",
    "\n",
    "print(\"Mean absolute error: \", mean_absolute_error(predicted, y_test))\n",
    "print(\"Accuracy: \", accuracy(predicted, y_test))\n",
    "\n",
    "print(classification_report(y_test, predicted))\n",
    "# here we see for example that the precision for predicting class 1 is slightly lower."
   ]
  },
  {
   "cell_type": "code",
   "execution_count": null,
   "metadata": {},
   "outputs": [
    {
     "name": "stdout",
     "output_type": "stream",
     "text": [
      "Mean absolute error:  0.06666666666666667\n",
      "Accuracy:  0.9333333333333333\n"
     ]
    }
   ],
   "source": [
    "\n",
    "# KNeighborsClassifier(n_neighbors=5, *, weights='uniform', algorithm='auto', leaf_size=30, p=2, metric='minkowski', metric_params=None, n_jobs=None)\n",
    "model_comp = KNeighborsClassifier(2, metric=\"cosine\")\n",
    "model_comp.fit(X_train, y_train)\n",
    "\n",
    "predicted_comp = model_comp.predict(X_test)\n",
    "\n",
    "print(\"Mean absolute error: \", mean_absolute_error(predicted_comp, y_test))\n",
    "print(\"Accuracy: \", accuracy(predicted_comp, y_test))\n",
    "\n",
    "\n"
   ]
  },
  {
   "cell_type": "markdown",
   "metadata": {},
   "source": []
  }
 ],
 "metadata": {
  "kernelspec": {
   "display_name": "Python 3",
   "language": "python",
   "name": "python3"
  },
  "language_info": {
   "codemirror_mode": {
    "name": "ipython",
    "version": 3
   },
   "file_extension": ".py",
   "mimetype": "text/x-python",
   "name": "python",
   "nbconvert_exporter": "python",
   "pygments_lexer": "ipython3",
   "version": "3.12.0"
  }
 },
 "nbformat": 4,
 "nbformat_minor": 2
}
