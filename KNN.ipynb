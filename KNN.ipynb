{
 "cells": [
  {
   "cell_type": "code",
   "execution_count": 39,
   "metadata": {},
   "outputs": [],
   "source": [
    "import pandas as pd\n",
    "import numpy as np\n",
    "import collections\n",
    "import matplotlib.pyplot as plt"
   ]
  },
  {
   "cell_type": "markdown",
   "metadata": {},
   "source": [
    "# K - Nearest Neighbors\n",
    "\n",
    "### Definition of distances"
   ]
  },
  {
   "cell_type": "code",
   "execution_count": 40,
   "metadata": {},
   "outputs": [],
   "source": [
    "# various distances\n",
    "\n",
    "def euclidian_dist(v1, v2):\n",
    "    # if a triangle is drawn with the 2 points as corners then the euclidian distance is the hypothenuse\n",
    "    return np.sqrt(np.sum([np.square(s - x) for x,s in zip(v1, v2)]))\n",
    "\n",
    "def manhattan_dist(v1, v2):\n",
    "    # this distance is equal to moving across a grid of squares from point a to point b (no diagonal)\n",
    "    return np.sum([abs(s - x) for x,s in zip(v1,v2)])\n",
    "\n",
    "def minkowski_dist(v1, v2, p=3):\n",
    "    # if p = 1 then it is equivalent to the manhattan distance\n",
    "    # if p = 2 then it is equivalent to the euclidian distance\n",
    "    return np.power(np.sum([np.power((s - x), p) for x,s in zip(v1, v2)]), 1/p)\n",
    "\n",
    "\n",
    "def chebyshev_dist(v1, v2):\n",
    "    # choses the maximal difference between 2 variables of the 2 vectors \n",
    "    # visually it choses the side of the triangle that is longer and not the hypothenuse\n",
    "    return np.max([abs(s - x) for x,s in zip(v1,v2)])\n",
    "\n",
    "def cosine_distance(v1, v2):\n",
    "    # uses the angle of the vectors to determine whether they point in a similar direction\n",
    "    # norm(v1) == np.sqrt(np.dot(v1,v1)) using (from numpy.linalg import norm)\n",
    "    return np.dot(v1, v2) / ( np.sqrt(np.dot(v1,v1)) * np.sqrt(np.dot(v2,v2)))\n",
    "\n",
    "def jaccard_distance(v1, v2):\n",
    "    # also works well for categorical variables\n",
    "    anb = len(set(v1).intersection(set(v2)))\n",
    "    aub = len(set(v1).union(set(v2)))\n",
    "    return 1 - (anb / aub)\n",
    "\n",
    "def hamming_distance(v1, v2):\n",
    "    # the number of substitutions needed to change one string into another\n",
    "    # also works well for categorical variables or binary strings such as one hot encoding\n",
    "    if len(v1) != len(v2):\n",
    "        raise ValueError(\"For the Hamming distance the 2 vectors must have the same length. Please check this.\")\n",
    "    return np.sum([s != x for x,s in zip(v1,v2)])\n"
   ]
  },
  {
   "cell_type": "markdown",
   "metadata": {},
   "source": [
    "### Definition of KNN class"
   ]
  },
  {
   "cell_type": "code",
   "execution_count": 41,
   "metadata": {},
   "outputs": [],
   "source": [
    "class KNN:\n",
    "    def __init__(self, knearest=3, distance=\"euclidian\"):\n",
    "        #Note to self, the instance variable does not need an underscore here, only in the setter and getter\n",
    "        self.knearest = knearest\n",
    "        self.distance = distance\n",
    "\n",
    "    @property\n",
    "    def distance(self):\n",
    "        return self._distance\n",
    "    \n",
    "    @distance.setter\n",
    "    def distance(self, distance):\n",
    "        if distance not in [\"euclidian\", \"manhattan\", \"minkowski\", \"chebyshev\", \"cosine\", \"hamming\", \"jaccard\"]:\n",
    "            raise ValueError(\"Please choose one of the following distance measures: euclidian, manhattan, minkowski, chebyshev, cosine, hamming or jaccard.\")\n",
    "        self._distance = distance\n",
    "\n",
    "    @property\n",
    "    def knearest(self):\n",
    "        return self._knearest\n",
    "    \n",
    "    @knearest.setter\n",
    "    def knearest(self, knearest):\n",
    "        if not isinstance(knearest,int):\n",
    "            raise ValueError(\"Please enter a whole number.\")\n",
    "        elif knearest <= 0:\n",
    "            raise ValueError(\"Please enter a number larger than 0.\")\n",
    "        self._knearest = knearest\n",
    "\n",
    "\n",
    "    def fit(self, X, y):\n",
    "        self.X_train = X\n",
    "        self.y_train = y\n",
    "\n",
    "\n",
    "    def predict(self, samples):\n",
    "        predicted_labels = [self._predict(x) for x in samples]\n",
    "        return np.array(predicted_labels)\n",
    "        \n",
    "    def _predict(self, sample):\n",
    "        # compute the distances between the sample the training data\n",
    "        # Find the k nearest neighbors\n",
    "        # Chose the label according to majority vote\n",
    "\n",
    "        #idea limit the points you compute the distance for to sample_var +/- std or variance\n",
    "        distances = self.compute_dist(sample)\n",
    "        k_nearest_idx = self._get_k_nearest(distances)\n",
    "        label = self._get_majority_label(k_nearest_idx)\n",
    "        return label\n",
    "    \n",
    "    def compute_dist(self, sample):\n",
    "        distances = {}\n",
    "        match self.distance:\n",
    "            case \"euclidian\":\n",
    "                return [euclidian_dist(x, sample) for x in self.X_train]\n",
    "            case  \"manhattan\" :\n",
    "                return [manhattan_dist(x, sample) for x in self.X_train]\n",
    "            case \"minkowski\" :\n",
    "                return [minkowski_dist(x, sample) for x in self.X_train]\n",
    "            case \"chebyshev\":\n",
    "                return [chebyshev_dist(x, sample) for x in self.X_train]\n",
    "            case \"cosine\":\n",
    "                return [cosine_distance(x, sample) for x in self.X_train]\n",
    "            case \"hamming\":\n",
    "                return [hamming_distance(x, sample) for x in self.X_train]\n",
    "            case \"jaccard\":\n",
    "                return [jaccard_distance(x, sample) for x in self.X_train]\n",
    "        \n",
    "    \n",
    "    def _get_k_nearest(self, distances):\n",
    "        sorted_neighbors = np.argsort(distances)\n",
    "        return sorted_neighbors[:self.knearest]\n",
    "    \n",
    "    def _get_majority_label(self, k_nearest_idx):\n",
    "        labels = []\n",
    "        for neighbor in k_nearest_idx:\n",
    "            labels.append(self.y_train[neighbor])\n",
    "        return collections.Counter(labels).most_common()[0][0]"
   ]
  },
  {
   "cell_type": "markdown",
   "metadata": {},
   "source": [
    "### Some basic performance metrics"
   ]
  },
  {
   "cell_type": "code",
   "execution_count": 42,
   "metadata": {},
   "outputs": [],
   "source": [
    "def mean_absolute_error(predicted, target):\n",
    "    return (np.sum([abs(t-p) for t,p in zip(predicted, target)])/len(predicted))\n",
    "\n",
    "def accuracy(predicted, target):\n",
    "    return np.sum(predicted == target) / len(target)"
   ]
  },
  {
   "cell_type": "markdown",
   "metadata": {},
   "source": [
    "### Test on iris data set"
   ]
  },
  {
   "cell_type": "code",
   "execution_count": 43,
   "metadata": {},
   "outputs": [
    {
     "data": {
      "text/plain": [
       "array(['setosa', 'versicolor', 'virginica'], dtype='<U10')"
      ]
     },
     "execution_count": 43,
     "metadata": {},
     "output_type": "execute_result"
    }
   ],
   "source": [
    "from sklearn import datasets\n",
    "from sklearn.model_selection import train_test_split\n",
    "\n",
    "iris = datasets.load_iris()\n",
    "\n",
    "X, y = iris.data, iris.target\n",
    "X_train, X_test, y_train, y_test = train_test_split(X, y, test_size=0.3, random_state=1234)\n",
    "\n",
    "iris.target_names"
   ]
  },
  {
   "cell_type": "code",
   "execution_count": 44,
   "metadata": {},
   "outputs": [
    {
     "data": {
      "image/png": "[encoded data removed]",
      "text/plain": [
       "<Figure size 640x480 with 1 Axes>"
      ]
     },
     "metadata": {},
     "output_type": "display_data"
    }
   ],
   "source": [
    "plt.figure()\n",
    "plt.title(\"Petal vs sepal length for 3 target iris'\")\n",
    "plt.scatter(X[:,0], X[:,2], c=y, edgecolors='k', s=20)\n",
    "plt.ylabel(iris.feature_names[2])\n",
    "plt.xlabel(iris.feature_names[0])\n",
    "plt.show()"
   ]
  },
  {
   "cell_type": "code",
   "execution_count": 51,
   "metadata": {},
   "outputs": [
    {
     "name": "stdout",
     "output_type": "stream",
     "text": [
      "Mean absolute error:  0.022222222222222223\n",
      "Accuracy:  0.9777777777777777\n"
     ]
    }
   ],
   "source": [
    "model = KNN(3, distance=\"manhattan\")\n",
    "model.fit(X_train, y_train)\n",
    "predicted = model.predict(X_test)\n",
    "\n",
    "print(\"Mean absolute error: \", mean_absolute_error(predicted, y_test))\n",
    "print(\"Accuracy: \", accuracy(predicted, y_test))"
   ]
  },
  {
   "cell_type": "markdown",
   "metadata": {},
   "source": []
  }
 ],
 "metadata": {
  "kernelspec": {
   "display_name": "Python 3",
   "language": "python",
   "name": "python3"
  },
  "language_info": {
   "codemirror_mode": {
    "name": "ipython",
    "version": 3
   },
   "file_extension": ".py",
   "mimetype": "text/x-python",
   "name": "python",
   "nbconvert_exporter": "python",
   "pygments_lexer": "ipython3",
   "version": "3.12.0"
  }
 },
 "nbformat": 4,
 "nbformat_minor": 2
}
