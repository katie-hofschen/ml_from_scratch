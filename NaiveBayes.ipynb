{
 "cells": [
  {
   "cell_type": "code",
   "execution_count": 1,
   "metadata": {},
   "outputs": [],
   "source": [
    "import pandas as pd\n",
    "import numpy as np\n",
    "import matplotlib.pyplot as plt\n",
    "plt.style.use('default')\n",
    "\n",
    "from sklearn import datasets\n",
    "from sklearn.model_selection import train_test_split"
   ]
  },
  {
   "cell_type": "markdown",
   "metadata": {},
   "source": [
    "# Naive Bayes\n",
    "Is a supervised learning algorithm based on applying Bayes’ theorem with the “naive” assumption of conditional independence between every pair of features given the value of the class variable.\n",
    "The different naive Bayes classifiers differ mainly by the assumptions they make regarding the distribution of $P(x_i|y)$.\n",
    "\n",
    "They work quite well, can be very fast and require a small amount of training data to estimate the necessary parameters. They have been famously used in document classification and spam filtering. However, it is known to be a bad estimator, so the probability outputs from are not to be taken too seriously.\n",
    "\n",
    "Bayes Theorem:  \n",
    "\n",
    "$P(A|B) = \\frac{P(B|A) * P(A)} {P(B)} $   \n",
    "\n",
    "The probability of A given B.    \n",
    "\n",
    "In case of our target and data:    \n",
    "\n",
    "$P(y|X)$   - Posterior Probability    \n",
    "$P(y)$     - Prior probability of y    \n",
    "$P(x_i|y)$ - Class conditional probability\n",
    "\n",
    "Using the chain rule we get:\n",
    "$P(y|X) = \\frac{P(y)  *  \\prod_i{P(x_i|y)}} {P(X)} $\n",
    "\n",
    "$argmax(P(y|X))$ select the class with the highest probability.\n",
    "\n",
    "Finally: $argmax( log(P(x_1|y)) + log(P(x_2|y)) + ... + log(P(y)) )$\n",
    "\n",
    "\n",
    "\n",
    "Using the Gaussion distribution:\n",
    "\n",
    "$P(x_i|y) = \\frac{1}{\\sqrt{2 \\pi \\sigma_y^2}} * exp(-\\frac{(x_i-\\mu_y)^2}{2 \\sigma_y^2}) $"
   ]
  },
  {
   "cell_type": "markdown",
   "metadata": {},
   "source": []
  },
  {
   "cell_type": "markdown",
   "metadata": {},
   "source": []
  }
 ],
 "metadata": {
  "kernelspec": {
   "display_name": ".venv",
   "language": "python",
   "name": "python3"
  },
  "language_info": {
   "codemirror_mode": {
    "name": "ipython",
    "version": 3
   },
   "file_extension": ".py",
   "mimetype": "text/x-python",
   "name": "python",
   "nbconvert_exporter": "python",
   "pygments_lexer": "ipython3",
   "version": "3.12.0"
  }
 },
 "nbformat": 4,
 "nbformat_minor": 2
}
