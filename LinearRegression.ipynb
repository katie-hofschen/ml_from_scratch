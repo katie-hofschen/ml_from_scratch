{
 "cells": [
  {
   "cell_type": "code",
   "execution_count": 63,
   "metadata": {},
   "outputs": [],
   "source": [
    "import pandas as pd\n",
    "import numpy as np\n",
    "import matplotlib.pyplot as plt\n",
    "plt.style.use('default')\n",
    "\n",
    "from sklearn import datasets\n",
    "from sklearn.model_selection import train_test_split"
   ]
  },
  {
   "cell_type": "markdown",
   "metadata": {},
   "source": [
    "# Linear Regression\n",
    "\n",
    "Approximate the linear function that best represents a given set of continuous sample points.    \n",
    "pred = w * x + b    \n",
    "where w is the slope and b is the bias  \n",
    "\n",
    "### Cost functions"
   ]
  },
  {
   "cell_type": "code",
   "execution_count": 64,
   "metadata": {},
   "outputs": [],
   "source": [
    "# Mean absolute error\n",
    "def mae(y, pred):\n",
    "    \"\"\"\n",
    "    The mean of the absolute error between y and the predicted.\n",
    "    \"\"\"\n",
    "    mae = ( np.sum([abs(t-p) for t,p in zip(y, pred)]) / len(pred) )\n",
    "    return np.round(mae, 4)\n",
    "\n",
    "# Mean squared error\n",
    "def mse(y, pred):\n",
    "    \"\"\"\n",
    "    The mean squared error between y and the predicted.\n",
    "    This metric penalizes larger errors more than MAE but due to the quadratic the error (unit^2) cannot be directly compared to the target (unit).\n",
    "    This same property means that the metric can be more affected by outliers.\n",
    "    \"\"\"\n",
    "    mse = ( np.sum([np.square(t-p) for t,p in zip(y, pred)]) / len(pred) )\n",
    "    return np.round(mse, 4)\n",
    "\n",
    "#Root mean squared error\n",
    "def rmse(y, pred):\n",
    "    \"\"\"\n",
    "    The root of the mean of the squared error between y and the predicted.\n",
    "    While larger errors are still penalized, using the root allows a better interpretability/comparison to the target (unit).\n",
    "    Also more susceptible to give outliers more importance.\n",
    "    \"\"\"\n",
    "    rmse = np.sqrt( np.sum([np.square(t-p) for t,p in zip(y, pred)]) / len(pred) )\n",
    "    return np.round(rmse, 4)\n",
    "\n",
    "#Root mean squared logarithmic error\n",
    "def rmsle(y, pred):\n",
    "    \"\"\"\n",
    "    The root of the mean of the squared log(error) between y and the predicted.\n",
    "    mainly used when predictions have large deviations (0 - millions) and we don't want to punish deviations in prediction as much as with MSE.\n",
    "    \"\"\"\n",
    "    errors = [np.square( np.log1p(t) - np.log1p(p) ) for t,p in zip(y, pred)]\n",
    "    rmsle= np.sqrt( np.sum(errors) / len(pred) )\n",
    "    return np.round(rmsle, 4)"
   ]
  },
  {
   "cell_type": "markdown",
   "metadata": {},
   "source": [
    "### Gradient descent\n",
    "\n",
    "The iterative process of using gradients to determine which direction the (at least local) minimum is and updating the weights to move in that direction.\n",
    "\n",
    "w = w - a * dw (weight - learning rate * derivative of weight)       \n",
    "dw = 1/N sum_n( 2xi * (pred - yi))   \n",
    "\n",
    "\n",
    "b = b - a * db (bias - learning rate * derivative of bias)    \n",
    "db = 1/N sum_n( 2 * (pred - yi))   "
   ]
  },
  {
   "cell_type": "code",
   "execution_count": 65,
   "metadata": {},
   "outputs": [],
   "source": [
    "class LinearRegression:\n",
    "    def __init__(self, lr=0.001, n_iter=100):\n",
    "        self.lr = lr\n",
    "        self.n_iter = n_iter\n",
    "        self.weights = None\n",
    "        self.bias = None\n",
    "\n",
    "    @property\n",
    "    def lr(self):\n",
    "        return self._lr\n",
    "    \n",
    "    @lr.setter\n",
    "    def lr(self, lr):\n",
    "        if not isinstance(lr, float) or lr < 0.0:\n",
    "            raise ValueError(\"The learning rate should be a number above 0.\")\n",
    "        self._lr = lr\n",
    "\n",
    "    @property\n",
    "    def n_iter(self):\n",
    "        return self._n_iter\n",
    "    \n",
    "    @n_iter.setter\n",
    "    def n_iter(self, n_iter):\n",
    "        if not isinstance(n_iter, int) or n_iter < 0:\n",
    "            raise ValueError(\"The number of iterations should be a number above 0.\")\n",
    "        self._n_iter = n_iter\n",
    "\n",
    "    def fit(self, X, y):\n",
    "        # training with gradient descent\n",
    "        n_samples, n_features = X.shape\n",
    "        # TODO use different intialization methods eg. Xavier init., ...\n",
    "        self.weights = np.zeros(n_features)\n",
    "        self.bias = 0\n",
    "\n",
    "        # Gradient descent\n",
    "        for _ in range(self.n_iter):\n",
    "            y_pred = np.dot(X,  self.weights) + self.bias\n",
    "            errors =  y_pred - y\n",
    "            db = (1 / n_samples) * np.sum(errors)\n",
    "            dw = (1 / n_samples) * np.dot(X.T, errors)\n",
    "            \n",
    "            self.bias -= self.lr * db\n",
    "            self.weights -= self.lr * dw\n",
    "        \n",
    "\n",
    "    def predict(self, X):\n",
    "        # use the function resulting from training to predict for the sample\n",
    "        return np.dot(X,  self.weights) + self.bias\n",
    "\n"
   ]
  },
  {
   "cell_type": "code",
   "execution_count": 66,
   "metadata": {},
   "outputs": [],
   "source": [
    "# artificially made dataset to test class\n",
    "X1, y1 = datasets.make_regression(n_samples=100, n_features=1, noise=20, random_state=4)\n",
    "X_train1, X_test1, y_train1, y_test1 = train_test_split(X1, y1, test_size=0.2, random_state=1234)"
   ]
  },
  {
   "cell_type": "code",
   "execution_count": 67,
   "metadata": {},
   "outputs": [
    {
     "data": {
      "text/plain": [
       "17.4864"
      ]
     },
     "execution_count": 67,
     "metadata": {},
     "output_type": "execute_result"
    }
   ],
   "source": [
    "reg1 = LinearRegression(lr=0.1, n_iter=100)\n",
    "reg1.fit(X_train1, y_train1)\n",
    "predicted1 = reg1.predict(X_test1)\n",
    "\n",
    "rmse(y_test1, predicted1)"
   ]
  },
  {
   "cell_type": "code",
   "execution_count": 68,
   "metadata": {},
   "outputs": [
    {
     "data": {
      "image/png": "[encoded data removed]",
      "text/plain": [
       "<Figure size 500x250 with 1 Axes>"
      ]
     },
     "metadata": {},
     "output_type": "display_data"
    }
   ],
   "source": [
    "fig = plt.figure(figsize=(5,2.5))\n",
    "plt.scatter(X1, y1, color='b')\n",
    "plt.plot(X_test1, predicted1, color='r', label=\"Prediction\")\n",
    "plt.show()"
   ]
  },
  {
   "cell_type": "markdown",
   "metadata": {},
   "source": [
    "### Multiple Linear Regression (MLR)\n",
    "\n",
    "How are multiple independent variables related to one dependent variable?   \n",
    "w1 * x1 + w2 * x2 + ... + b"
   ]
  },
  {
   "cell_type": "code",
   "execution_count": 69,
   "metadata": {},
   "outputs": [],
   "source": [
    "# artificially made dataset with 3 features to test class\n",
    "X, y = datasets.make_regression(n_samples=200, n_features=3, noise=30, random_state=9)\n",
    "X_train, X_test, y_train, y_test = train_test_split(X, y, test_size=0.25, random_state=123)"
   ]
  },
  {
   "cell_type": "code",
   "execution_count": 70,
   "metadata": {},
   "outputs": [
    {
     "data": {
      "text/plain": [
       "188.8923"
      ]
     },
     "execution_count": 70,
     "metadata": {},
     "output_type": "execute_result"
    }
   ],
   "source": [
    "reg2 = LinearRegression(lr=0.1, n_iter=100)\n",
    "reg2.fit(X_train, y_train)\n",
    "predicted2 = reg2.predict(X_test)\n",
    "\n",
    "rmse(y, predicted2)"
   ]
  }
 ],
 "metadata": {
  "kernelspec": {
   "display_name": ".venv",
   "language": "python",
   "name": "python3"
  },
  "language_info": {
   "codemirror_mode": {
    "name": "ipython",
    "version": 3
   },
   "file_extension": ".py",
   "mimetype": "text/x-python",
   "name": "python",
   "nbconvert_exporter": "python",
   "pygments_lexer": "ipython3",
   "version": "3.12.0"
  }
 },
 "nbformat": 4,
 "nbformat_minor": 2
}
